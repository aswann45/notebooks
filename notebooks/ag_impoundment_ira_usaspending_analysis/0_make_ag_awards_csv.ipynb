{
 "cells": [
  {
   "cell_type": "code",
   "execution_count": 1,
   "metadata": {},
   "outputs": [],
   "source": [
    "from pathlib import Path\n",
    "\n",
    "import pandas as pd"
   ]
  },
  {
   "cell_type": "code",
   "execution_count": 2,
   "metadata": {},
   "outputs": [],
   "source": [
    "pd.options.display.float_format = \"{:,.0f}\".format"
   ]
  },
  {
   "cell_type": "code",
   "execution_count": 3,
   "metadata": {},
   "outputs": [],
   "source": [
    "data_dir: Path = Path().home() / \"data\" / \"usaspending\"\n",
    "\n",
    "subdirs: list[Path] = [item for item in data_dir.iterdir() if item.is_dir()]"
   ]
  },
  {
   "cell_type": "code",
   "execution_count": 4,
   "metadata": {},
   "outputs": [],
   "source": [
    "data_files: list[Path] = []\n",
    "\n",
    "for subdir in subdirs:\n",
    "    data_files += [\n",
    "        i\n",
    "        for i in subdir.iterdir()\n",
    "        if i.is_file() and \"All_Assistance_PrimeTransactions\" in i.name\n",
    "    ]"
   ]
  },
  {
   "cell_type": "code",
   "execution_count": 5,
   "metadata": {},
   "outputs": [],
   "source": [
    "cols = [\n",
    "    \"assistance_transaction_unique_key\",\n",
    "    \"assistance_award_unique_key\",\n",
    "    \"award_id_fain\",\n",
    "    \"modification_number\",\n",
    "    \"federal_action_obligation\",\n",
    "    \"total_obligated_amount\",\n",
    "    \"total_outlayed_amount_for_overall_award\",\n",
    "    \"indirect_cost_federal_share_amount\",\n",
    "    \"non_federal_funding_amount\",\n",
    "    \"total_non_federal_funding_amount\",\n",
    "    \"face_value_of_loan\",\n",
    "    \"total_face_value_of_loan\",\n",
    "    \"total_loan_subsidy_cost\",\n",
    "    \"generated_pragmatic_obligations\",\n",
    "    \"action_date\",\n",
    "    \"action_date_fiscal_year\",\n",
    "    \"treasury_accounts_funding_this_award\",\n",
    "    \"federal_accounts_funding_this_award\",\n",
    "    \"object_classes_funding_this_award\",\n",
    "    \"program_activities_funding_this_award\",\n",
    "    \"recipient_uei\",\n",
    "    \"recipient_name\",\n",
    "    \"recipient_name_raw\",\n",
    "    \"recipient_parent_uei\",\n",
    "    \"recipient_parent_name\",\n",
    "    \"recipient_parent_name_raw\",\n",
    "    \"recipient_address_line_1\",\n",
    "    \"recipient_address_line_2\",\n",
    "    \"recipient_city_code\",\n",
    "    \"recipient_city_name\",\n",
    "    \"prime_award_transaction_recipient_county_fips_code\",\n",
    "    \"recipient_county_name\",\n",
    "    \"prime_award_transaction_recipient_state_fips_code\",\n",
    "    \"recipient_state_code\",\n",
    "    \"recipient_state_name\",\n",
    "    \"recipient_zip_code\",\n",
    "    \"recipient_zip_last_4_code\",\n",
    "    \"prime_award_transaction_recipient_cd_original\",\n",
    "    \"prime_award_transaction_recipient_cd_current\",\n",
    "    \"primary_place_of_performance_scope\",\n",
    "    \"primary_place_of_performance_code\",\n",
    "    \"primary_place_of_performance_city_name\",\n",
    "    \"prime_award_transaction_place_of_performance_county_fips_code\",\n",
    "    \"primary_place_of_performance_county_name\",\n",
    "    \"prime_award_transaction_place_of_performance_state_fips_code\",\n",
    "    \"primary_place_of_performance_state_name\",\n",
    "    \"primary_place_of_performance_zip_4\",\n",
    "    \"prime_award_transaction_place_of_performance_cd_original\",\n",
    "    \"prime_award_transaction_place_of_performance_cd_current\",\n",
    "    \"primary_place_of_performance_foreign_location\",\n",
    "    \"cfda_number\",\n",
    "    \"cfda_title\",\n",
    "    \"assistance_type_code\",\n",
    "    \"assistance_type_description\",\n",
    "    \"transaction_description\",\n",
    "    \"prime_award_base_transaction_description\",\n",
    "    \"business_funds_indicator_code\",\n",
    "    \"business_funds_indicator_description\",\n",
    "    \"business_types_code\",\n",
    "    \"business_types_description\",\n",
    "    \"correction_delete_indicator_code\",\n",
    "    \"correction_delete_indicator_description\",\n",
    "    \"action_type_code\",\n",
    "    \"action_type_description\",\n",
    "    \"record_type_code\",\n",
    "    \"initial_report_date\",\n",
    "    \"last_modified_date\",\n",
    "]"
   ]
  },
  {
   "cell_type": "code",
   "execution_count": 6,
   "metadata": {},
   "outputs": [
    {
     "name": "stderr",
     "output_type": "stream",
     "text": [
      "/tmp/ipykernel_67079/3741814032.py:3: DtypeWarning: Columns (3,42,46,48,49,52,53,54,77,80,93,94) have mixed types. Specify dtype option on import or set low_memory=False.\n",
      "  df = pd.read_csv(i, usecols=cols)\n",
      "/tmp/ipykernel_67079/3741814032.py:3: DtypeWarning: Columns (42,46,48,49,52,53,54,77,80,93,94) have mixed types. Specify dtype option on import or set low_memory=False.\n",
      "  df = pd.read_csv(i, usecols=cols)\n",
      "/tmp/ipykernel_67079/3741814032.py:3: DtypeWarning: Columns (42,46,48,49,52,53,54,77,93,94) have mixed types. Specify dtype option on import or set low_memory=False.\n",
      "  df = pd.read_csv(i, usecols=cols)\n",
      "/tmp/ipykernel_67079/3741814032.py:3: DtypeWarning: Columns (3,42,46,48,49,52,53,54,77,80,93,94) have mixed types. Specify dtype option on import or set low_memory=False.\n",
      "  df = pd.read_csv(i, usecols=cols)\n",
      "/tmp/ipykernel_67079/3741814032.py:3: DtypeWarning: Columns (42,46,48,49,52,53,54,77,80,93,94) have mixed types. Specify dtype option on import or set low_memory=False.\n",
      "  df = pd.read_csv(i, usecols=cols)\n",
      "/tmp/ipykernel_67079/3741814032.py:3: DtypeWarning: Columns (3,54,80) have mixed types. Specify dtype option on import or set low_memory=False.\n",
      "  df = pd.read_csv(i, usecols=cols)\n",
      "/tmp/ipykernel_67079/3741814032.py:3: DtypeWarning: Columns (3,54,80) have mixed types. Specify dtype option on import or set low_memory=False.\n",
      "  df = pd.read_csv(i, usecols=cols)\n",
      "/tmp/ipykernel_67079/3741814032.py:3: DtypeWarning: Columns (3,54,80,93,94) have mixed types. Specify dtype option on import or set low_memory=False.\n",
      "  df = pd.read_csv(i, usecols=cols)\n",
      "/tmp/ipykernel_67079/3741814032.py:3: DtypeWarning: Columns (3,53,54,80,93,94) have mixed types. Specify dtype option on import or set low_memory=False.\n",
      "  df = pd.read_csv(i, usecols=cols)\n",
      "/tmp/ipykernel_67079/3741814032.py:3: DtypeWarning: Columns (3,54,80,93,94) have mixed types. Specify dtype option on import or set low_memory=False.\n",
      "  df = pd.read_csv(i, usecols=cols)\n",
      "/tmp/ipykernel_67079/3741814032.py:3: DtypeWarning: Columns (3,80,93,94) have mixed types. Specify dtype option on import or set low_memory=False.\n",
      "  df = pd.read_csv(i, usecols=cols)\n",
      "/tmp/ipykernel_67079/3741814032.py:3: DtypeWarning: Columns (3,80,93,94) have mixed types. Specify dtype option on import or set low_memory=False.\n",
      "  df = pd.read_csv(i, usecols=cols)\n",
      "/tmp/ipykernel_67079/3741814032.py:3: DtypeWarning: Columns (3,54,77,80,93,94) have mixed types. Specify dtype option on import or set low_memory=False.\n",
      "  df = pd.read_csv(i, usecols=cols)\n",
      "/tmp/ipykernel_67079/3741814032.py:3: DtypeWarning: Columns (3,54,80) have mixed types. Specify dtype option on import or set low_memory=False.\n",
      "  df = pd.read_csv(i, usecols=cols)\n",
      "/tmp/ipykernel_67079/3741814032.py:3: DtypeWarning: Columns (3,54,80) have mixed types. Specify dtype option on import or set low_memory=False.\n",
      "  df = pd.read_csv(i, usecols=cols)\n"
     ]
    }
   ],
   "source": [
    "dfs: list[pd.DataFrame] = []\n",
    "for i in data_files:\n",
    "    df = pd.read_csv(i, usecols=cols)\n",
    "    dfs.append(df)\n",
    "df_out = pd.concat(dfs)\n",
    "df_out.to_csv(data_dir / \"ag_awards.csv\", index=False)"
   ]
  },
  {
   "cell_type": "markdown",
   "metadata": {},
   "source": [
    "* action_date_fiscal_year: fy in which the most recent change to the award occured; should be 2022 or later\n",
    "* treasury_accounts_funding_this_award: tafs associated with the award; should be one of the IRA/IIJA tafs"
   ]
  }
 ],
 "metadata": {
  "kernelspec": {
   "display_name": "jupyterlab",
   "language": "python",
   "name": "python3"
  },
  "language_info": {
   "codemirror_mode": {
    "name": "ipython",
    "version": 3
   },
   "file_extension": ".py",
   "mimetype": "text/x-python",
   "name": "python",
   "nbconvert_exporter": "python",
   "pygments_lexer": "ipython3",
   "version": "3.12.3"
  }
 },
 "nbformat": 4,
 "nbformat_minor": 2
}
