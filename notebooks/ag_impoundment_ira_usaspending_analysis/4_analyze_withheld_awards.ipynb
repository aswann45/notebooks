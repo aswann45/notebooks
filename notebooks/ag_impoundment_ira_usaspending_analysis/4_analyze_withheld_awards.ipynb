{
 "cells": [
  {
   "cell_type": "code",
   "execution_count": 22,
   "metadata": {},
   "outputs": [],
   "source": [
    "from pathlib import Path\n",
    "\n",
    "import pandas as pd"
   ]
  },
  {
   "cell_type": "code",
   "execution_count": 23,
   "metadata": {},
   "outputs": [],
   "source": [
    "pd.options.display.float_format = \"{:,.0f}\".format"
   ]
  },
  {
   "cell_type": "code",
   "execution_count": 24,
   "metadata": {},
   "outputs": [],
   "source": [
    "data_dir: Path = Path().home() / \"data\" / \"usaspending\""
   ]
  },
  {
   "cell_type": "code",
   "execution_count": 25,
   "metadata": {},
   "outputs": [
    {
     "name": "stderr",
     "output_type": "stream",
     "text": [
      "/tmp/ipykernel_111218/448377676.py:1: DtypeWarning: Columns (16,32) have mixed types. Specify dtype option on import or set low_memory=False.\n",
      "  df = pd.read_csv(data_dir / \"ag_ira_awards_withheld.csv\")\n"
     ]
    }
   ],
   "source": [
    "df = pd.read_csv(data_dir / \"ag_ira_awards_withheld.csv\")"
   ]
  },
  {
   "cell_type": "code",
   "execution_count": 26,
   "metadata": {},
   "outputs": [
    {
     "data": {
      "text/html": [
       "<div>\n",
       "<style scoped>\n",
       "    .dataframe tbody tr th:only-of-type {\n",
       "        vertical-align: middle;\n",
       "    }\n",
       "\n",
       "    .dataframe tbody tr th {\n",
       "        vertical-align: top;\n",
       "    }\n",
       "\n",
       "    .dataframe thead th {\n",
       "        text-align: right;\n",
       "    }\n",
       "</style>\n",
       "<table border=\"1\" class=\"dataframe\">\n",
       "  <thead>\n",
       "    <tr style=\"text-align: right;\">\n",
       "      <th></th>\n",
       "      <th>assistance_transaction_unique_key</th>\n",
       "      <th>assistance_award_unique_key</th>\n",
       "      <th>award_id_fain</th>\n",
       "      <th>total_obligated_amount</th>\n",
       "      <th>total_outlayed_amount_for_overall_award</th>\n",
       "      <th>action_date_fiscal_year</th>\n",
       "      <th>treasury_accounts_funding_this_award</th>\n",
       "      <th>program_activities_funding_this_award</th>\n",
       "      <th>recipient_uei</th>\n",
       "      <th>recipient_name</th>\n",
       "      <th>...</th>\n",
       "      <th>primary_place_of_performance_zip_4</th>\n",
       "      <th>prime_award_transaction_place_of_performance_cd_original</th>\n",
       "      <th>prime_award_transaction_place_of_performance_cd_current</th>\n",
       "      <th>cfda_number</th>\n",
       "      <th>cfda_title</th>\n",
       "      <th>assistance_type_description</th>\n",
       "      <th>prime_award_base_transaction_description</th>\n",
       "      <th>business_types_description</th>\n",
       "      <th>max_promised_amount</th>\n",
       "      <th>max_withheld_amount</th>\n",
       "    </tr>\n",
       "  </thead>\n",
       "  <tbody>\n",
       "    <tr>\n",
       "      <th>0</th>\n",
       "      <td>12H3_20227041637148_-NONE-_10.234_1</td>\n",
       "      <td>ASST_NON_20227041637148_12H3</td>\n",
       "      <td>20227041637148</td>\n",
       "      <td>14,860,449</td>\n",
       "      <td>8,508,901</td>\n",
       "      <td>2022</td>\n",
       "      <td>012-2022/2031-0115-000;012-X-0115-000</td>\n",
       "      <td>0016: ARP: SOCIALLY DISADVANTAGE FARMERS, RANC...</td>\n",
       "      <td>KB5RHNPHRXZ6</td>\n",
       "      <td>FEDERATION OF SOUTHERN COOPERATIVES/LAND ASSIS...</td>\n",
       "      <td>...</td>\n",
       "      <td>30344-3258</td>\n",
       "      <td>GA-05</td>\n",
       "      <td>GA-05</td>\n",
       "      <td>10</td>\n",
       "      <td>AMERICAN RESCUE PLAN TECHNICAL ASSISTANCE INVE...</td>\n",
       "      <td>COOPERATIVE AGREEMENT (B)</td>\n",
       "      <td>THE FEDERATION OF SOUTHERN COOPERATIVES/LAND A...</td>\n",
       "      <td>NONPROFIT WITHOUT 501C3 IRS STATUS (OTHER THAN...</td>\n",
       "      <td>14,860,449</td>\n",
       "      <td>6,351,548</td>\n",
       "    </tr>\n",
       "    <tr>\n",
       "      <th>1</th>\n",
       "      <td>12H3_20237050541116_-NONE-_10.234_1</td>\n",
       "      <td>ASST_NON_20237050541116_12H3</td>\n",
       "      <td>20237050541116</td>\n",
       "      <td>4,995,629</td>\n",
       "      <td>4,482,724</td>\n",
       "      <td>2023</td>\n",
       "      <td>012-2022/2031-0115-000</td>\n",
       "      <td>0061: IRA SEC 22007 (E) DISCRIMINATION FINANCI...</td>\n",
       "      <td>X41KZSTTC8K4</td>\n",
       "      <td>INTERTRIBAL AGRICULTURE COUNCIL, INC</td>\n",
       "      <td>...</td>\n",
       "      <td>59102-4711</td>\n",
       "      <td>MT-02</td>\n",
       "      <td>MT-02</td>\n",
       "      <td>10</td>\n",
       "      <td>AMERICAN RESCUE PLAN TECHNICAL ASSISTANCE INVE...</td>\n",
       "      <td>PROJECT GRANT (B)</td>\n",
       "      <td>FOR OVER 35 YEARS, THE INTERTRIBAL AGRICULTURE...</td>\n",
       "      <td>NONPROFIT WITH 501C3 IRS STATUS (OTHER THAN AN...</td>\n",
       "      <td>4,995,629</td>\n",
       "      <td>512,904</td>\n",
       "    </tr>\n",
       "    <tr>\n",
       "      <th>2</th>\n",
       "      <td>12H3_20227041637276_-NONE-_10.234_1</td>\n",
       "      <td>ASST_NON_20227041637276_12H3</td>\n",
       "      <td>20227041637276</td>\n",
       "      <td>8,955,772</td>\n",
       "      <td>3,985,693</td>\n",
       "      <td>2022</td>\n",
       "      <td>012-2022/2031-0115-000;012-X-0115-000</td>\n",
       "      <td>0016: ARP: SOCIALLY DISADVANTAGE FARMERS, RANC...</td>\n",
       "      <td>KMLRLJRK83M5</td>\n",
       "      <td>RURAL COALITION</td>\n",
       "      <td>...</td>\n",
       "      <td>20005-3842</td>\n",
       "      <td>DC-98</td>\n",
       "      <td>DC-98</td>\n",
       "      <td>10</td>\n",
       "      <td>AMERICAN RESCUE PLAN TECHNICAL ASSISTANCE INVE...</td>\n",
       "      <td>COOPERATIVE AGREEMENT (B)</td>\n",
       "      <td>AS PART OF A TEAM OF INTERRELATED USDA COOPERA...</td>\n",
       "      <td>NONPROFIT WITHOUT 501C3 IRS STATUS (OTHER THAN...</td>\n",
       "      <td>8,955,772</td>\n",
       "      <td>4,970,079</td>\n",
       "    </tr>\n",
       "    <tr>\n",
       "      <th>3</th>\n",
       "      <td>12C3_NR225A12XXXXC009_-NONE-_10.069_-NONE-</td>\n",
       "      <td>ASST_NON_NR225A12XXXXC009_12C3</td>\n",
       "      <td>NR225A12XXXXC009</td>\n",
       "      <td>7,340,254</td>\n",
       "      <td>3,976,526</td>\n",
       "      <td>2022</td>\n",
       "      <td>012-2023/2031-1004-000;012-X-1004-000</td>\n",
       "      <td>0002: ENVIRONMENTAL QUALITY INCENTIVES PROGRAM...</td>\n",
       "      <td>QJ81C6YXHWF8</td>\n",
       "      <td>ASSOCIATION OF ILLINOIS SOIL &amp; WATER CONSERVAT...</td>\n",
       "      <td>...</td>\n",
       "      <td>NaN</td>\n",
       "      <td>IL-90</td>\n",
       "      <td>NaN</td>\n",
       "      <td>10</td>\n",
       "      <td>CONSERVATION RESERVE PROGRAM</td>\n",
       "      <td>COOPERATIVE AGREEMENT (B)</td>\n",
       "      <td>THE OBJECTIVE OF THIS AGREEMENT IS TO POOL THE...</td>\n",
       "      <td>NONPROFIT WITH 501C3 IRS STATUS (OTHER THAN AN...</td>\n",
       "      <td>7,340,254</td>\n",
       "      <td>3,363,728</td>\n",
       "    </tr>\n",
       "    <tr>\n",
       "      <th>4</th>\n",
       "      <td>12H3_20237050440441_-NONE-_10.234_1</td>\n",
       "      <td>ASST_NON_20237050440441_12H3</td>\n",
       "      <td>20237050440441</td>\n",
       "      <td>5,000,000</td>\n",
       "      <td>3,936,596</td>\n",
       "      <td>2023</td>\n",
       "      <td>012-2022/2031-0115-000</td>\n",
       "      <td>PM08: PENDING MAPPING</td>\n",
       "      <td>LZHUBAX82H75</td>\n",
       "      <td>SOVEREIGN EQUITY FUND</td>\n",
       "      <td>...</td>\n",
       "      <td>58501-3967</td>\n",
       "      <td>ND-00</td>\n",
       "      <td>ND-00</td>\n",
       "      <td>10</td>\n",
       "      <td>AMERICAN RESCUE PLAN TECHNICAL ASSISTANCE INVE...</td>\n",
       "      <td>PROJECT GRANT (B)</td>\n",
       "      <td>TRIBAL EXTENSION SUSTAINABILITY INITIATIVE (TE...</td>\n",
       "      <td>NONPROFIT WITH 501C3 IRS STATUS (OTHER THAN AN...</td>\n",
       "      <td>5,000,000</td>\n",
       "      <td>1,063,404</td>\n",
       "    </tr>\n",
       "    <tr>\n",
       "      <th>...</th>\n",
       "      <td>...</td>\n",
       "      <td>...</td>\n",
       "      <td>...</td>\n",
       "      <td>...</td>\n",
       "      <td>...</td>\n",
       "      <td>...</td>\n",
       "      <td>...</td>\n",
       "      <td>...</td>\n",
       "      <td>...</td>\n",
       "      <td>...</td>\n",
       "      <td>...</td>\n",
       "      <td>...</td>\n",
       "      <td>...</td>\n",
       "      <td>...</td>\n",
       "      <td>...</td>\n",
       "      <td>...</td>\n",
       "      <td>...</td>\n",
       "      <td>...</td>\n",
       "      <td>...</td>\n",
       "      <td>...</td>\n",
       "      <td>...</td>\n",
       "    </tr>\n",
       "    <tr>\n",
       "      <th>22727</th>\n",
       "      <td>12C3_0000748D432411R_-NONE-_10.912_0001</td>\n",
       "      <td>ASST_NON_0000748D432411R_12C3</td>\n",
       "      <td>0000748D432411R</td>\n",
       "      <td>200</td>\n",
       "      <td>0</td>\n",
       "      <td>2025</td>\n",
       "      <td>012-2024/2031-1004-000</td>\n",
       "      <td>0025: ENVIRONMENTAL QUALITY INCENTIVES PROGRAM...</td>\n",
       "      <td>NaN</td>\n",
       "      <td>REDACTED DUE TO PII</td>\n",
       "      <td>...</td>\n",
       "      <td>84,059</td>\n",
       "      <td>UT-03</td>\n",
       "      <td>UT-03</td>\n",
       "      <td>11</td>\n",
       "      <td>ENVIRONMENTAL QUALITY INCENTIVES PROGRAM</td>\n",
       "      <td>OTHER REIMBURSABLE, CONTINGENT, INTANGIBLE, OR...</td>\n",
       "      <td>EQI IR-PL117-169</td>\n",
       "      <td>INDIVIDUAL</td>\n",
       "      <td>200</td>\n",
       "      <td>200</td>\n",
       "    </tr>\n",
       "    <tr>\n",
       "      <th>22728</th>\n",
       "      <td>12C3_0000748D432401Y_-NONE-_10.912_0000</td>\n",
       "      <td>ASST_NON_0000748D432401Y_12C3</td>\n",
       "      <td>0000748D432401Y</td>\n",
       "      <td>187</td>\n",
       "      <td>0</td>\n",
       "      <td>2024</td>\n",
       "      <td>012-2024/2031-1004-000</td>\n",
       "      <td>0025: ENVIRONMENTAL QUALITY INCENTIVES PROGRAM...</td>\n",
       "      <td>NaN</td>\n",
       "      <td>REDACTED DUE TO PII</td>\n",
       "      <td>...</td>\n",
       "      <td>84,312</td>\n",
       "      <td>UT-01</td>\n",
       "      <td>UT-01</td>\n",
       "      <td>11</td>\n",
       "      <td>ENVIRONMENTAL QUALITY INCENTIVES PROGRAM</td>\n",
       "      <td>OTHER REIMBURSABLE, CONTINGENT, INTANGIBLE, OR...</td>\n",
       "      <td>EQI IR-PL117-169</td>\n",
       "      <td>INDIVIDUAL</td>\n",
       "      <td>187</td>\n",
       "      <td>187</td>\n",
       "    </tr>\n",
       "    <tr>\n",
       "      <th>22729</th>\n",
       "      <td>12C3_0000741106240H8_-NONE-_10.912_0000</td>\n",
       "      <td>ASST_NON_0000741106240H8_12C3</td>\n",
       "      <td>0000741106240H8</td>\n",
       "      <td>178</td>\n",
       "      <td>0</td>\n",
       "      <td>2024</td>\n",
       "      <td>012-2024/2031-1004-000</td>\n",
       "      <td>0025: ENVIRONMENTAL QUALITY INCENTIVES PROGRAM...</td>\n",
       "      <td>NaN</td>\n",
       "      <td>REDACTED DUE TO PII</td>\n",
       "      <td>...</td>\n",
       "      <td>2,807</td>\n",
       "      <td>RI-02</td>\n",
       "      <td>RI-02</td>\n",
       "      <td>11</td>\n",
       "      <td>ENVIRONMENTAL QUALITY INCENTIVES PROGRAM</td>\n",
       "      <td>OTHER REIMBURSABLE, CONTINGENT, INTANGIBLE, OR...</td>\n",
       "      <td>EQI IR-PL117-169</td>\n",
       "      <td>INDIVIDUAL</td>\n",
       "      <td>178</td>\n",
       "      <td>178</td>\n",
       "    </tr>\n",
       "    <tr>\n",
       "      <th>22730</th>\n",
       "      <td>12C3_0000749327240B8_-NONE-_10.912_0000</td>\n",
       "      <td>ASST_NON_0000749327240B8_12C3</td>\n",
       "      <td>0000749327240B8</td>\n",
       "      <td>176</td>\n",
       "      <td>0</td>\n",
       "      <td>2024</td>\n",
       "      <td>012-2024/2031-1004-000</td>\n",
       "      <td>0025: ENVIRONMENTAL QUALITY INCENTIVES PROGRAM...</td>\n",
       "      <td>NaN</td>\n",
       "      <td>REDACTED DUE TO PII</td>\n",
       "      <td>...</td>\n",
       "      <td>89,701</td>\n",
       "      <td>NV-02</td>\n",
       "      <td>NV-02</td>\n",
       "      <td>11</td>\n",
       "      <td>ENVIRONMENTAL QUALITY INCENTIVES PROGRAM</td>\n",
       "      <td>OTHER REIMBURSABLE, CONTINGENT, INTANGIBLE, OR...</td>\n",
       "      <td>EQI IR-PL117-169</td>\n",
       "      <td>INDIVIDUAL</td>\n",
       "      <td>176</td>\n",
       "      <td>176</td>\n",
       "    </tr>\n",
       "    <tr>\n",
       "      <th>22731</th>\n",
       "      <td>12C3_0000744310245PF_-NONE-_10.912_0000</td>\n",
       "      <td>ASST_NON_0000744310245PF_12C3</td>\n",
       "      <td>0000744310245PF</td>\n",
       "      <td>175</td>\n",
       "      <td>0</td>\n",
       "      <td>2024</td>\n",
       "      <td>012-2024/2031-1004-000</td>\n",
       "      <td>0025: ENVIRONMENTAL QUALITY INCENTIVES PROGRAM...</td>\n",
       "      <td>NaN</td>\n",
       "      <td>REDACTED DUE TO PII</td>\n",
       "      <td>...</td>\n",
       "      <td>31,632</td>\n",
       "      <td>GA-08</td>\n",
       "      <td>GA-08</td>\n",
       "      <td>11</td>\n",
       "      <td>ENVIRONMENTAL QUALITY INCENTIVES PROGRAM</td>\n",
       "      <td>OTHER REIMBURSABLE, CONTINGENT, INTANGIBLE, OR...</td>\n",
       "      <td>EQI IR-PL117-169</td>\n",
       "      <td>INDIVIDUAL</td>\n",
       "      <td>175</td>\n",
       "      <td>175</td>\n",
       "    </tr>\n",
       "  </tbody>\n",
       "</table>\n",
       "<p>22732 rows × 42 columns</p>\n",
       "</div>"
      ],
      "text/plain": [
       "                assistance_transaction_unique_key  \\\n",
       "0             12H3_20227041637148_-NONE-_10.234_1   \n",
       "1             12H3_20237050541116_-NONE-_10.234_1   \n",
       "2             12H3_20227041637276_-NONE-_10.234_1   \n",
       "3      12C3_NR225A12XXXXC009_-NONE-_10.069_-NONE-   \n",
       "4             12H3_20237050440441_-NONE-_10.234_1   \n",
       "...                                           ...   \n",
       "22727     12C3_0000748D432411R_-NONE-_10.912_0001   \n",
       "22728     12C3_0000748D432401Y_-NONE-_10.912_0000   \n",
       "22729     12C3_0000741106240H8_-NONE-_10.912_0000   \n",
       "22730     12C3_0000749327240B8_-NONE-_10.912_0000   \n",
       "22731     12C3_0000744310245PF_-NONE-_10.912_0000   \n",
       "\n",
       "          assistance_award_unique_key     award_id_fain  \\\n",
       "0        ASST_NON_20227041637148_12H3    20227041637148   \n",
       "1        ASST_NON_20237050541116_12H3    20237050541116   \n",
       "2        ASST_NON_20227041637276_12H3    20227041637276   \n",
       "3      ASST_NON_NR225A12XXXXC009_12C3  NR225A12XXXXC009   \n",
       "4        ASST_NON_20237050440441_12H3    20237050440441   \n",
       "...                               ...               ...   \n",
       "22727   ASST_NON_0000748D432411R_12C3   0000748D432411R   \n",
       "22728   ASST_NON_0000748D432401Y_12C3   0000748D432401Y   \n",
       "22729   ASST_NON_0000741106240H8_12C3   0000741106240H8   \n",
       "22730   ASST_NON_0000749327240B8_12C3   0000749327240B8   \n",
       "22731   ASST_NON_0000744310245PF_12C3   0000744310245PF   \n",
       "\n",
       "       total_obligated_amount  total_outlayed_amount_for_overall_award  \\\n",
       "0                  14,860,449                                8,508,901   \n",
       "1                   4,995,629                                4,482,724   \n",
       "2                   8,955,772                                3,985,693   \n",
       "3                   7,340,254                                3,976,526   \n",
       "4                   5,000,000                                3,936,596   \n",
       "...                       ...                                      ...   \n",
       "22727                     200                                        0   \n",
       "22728                     187                                        0   \n",
       "22729                     178                                        0   \n",
       "22730                     176                                        0   \n",
       "22731                     175                                        0   \n",
       "\n",
       "       action_date_fiscal_year   treasury_accounts_funding_this_award  \\\n",
       "0                         2022  012-2022/2031-0115-000;012-X-0115-000   \n",
       "1                         2023                 012-2022/2031-0115-000   \n",
       "2                         2022  012-2022/2031-0115-000;012-X-0115-000   \n",
       "3                         2022  012-2023/2031-1004-000;012-X-1004-000   \n",
       "4                         2023                 012-2022/2031-0115-000   \n",
       "...                        ...                                    ...   \n",
       "22727                     2025                 012-2024/2031-1004-000   \n",
       "22728                     2024                 012-2024/2031-1004-000   \n",
       "22729                     2024                 012-2024/2031-1004-000   \n",
       "22730                     2024                 012-2024/2031-1004-000   \n",
       "22731                     2024                 012-2024/2031-1004-000   \n",
       "\n",
       "                   program_activities_funding_this_award recipient_uei  \\\n",
       "0      0016: ARP: SOCIALLY DISADVANTAGE FARMERS, RANC...  KB5RHNPHRXZ6   \n",
       "1      0061: IRA SEC 22007 (E) DISCRIMINATION FINANCI...  X41KZSTTC8K4   \n",
       "2      0016: ARP: SOCIALLY DISADVANTAGE FARMERS, RANC...  KMLRLJRK83M5   \n",
       "3      0002: ENVIRONMENTAL QUALITY INCENTIVES PROGRAM...  QJ81C6YXHWF8   \n",
       "4                                  PM08: PENDING MAPPING  LZHUBAX82H75   \n",
       "...                                                  ...           ...   \n",
       "22727  0025: ENVIRONMENTAL QUALITY INCENTIVES PROGRAM...           NaN   \n",
       "22728  0025: ENVIRONMENTAL QUALITY INCENTIVES PROGRAM...           NaN   \n",
       "22729  0025: ENVIRONMENTAL QUALITY INCENTIVES PROGRAM...           NaN   \n",
       "22730  0025: ENVIRONMENTAL QUALITY INCENTIVES PROGRAM...           NaN   \n",
       "22731  0025: ENVIRONMENTAL QUALITY INCENTIVES PROGRAM...           NaN   \n",
       "\n",
       "                                          recipient_name  ...  \\\n",
       "0      FEDERATION OF SOUTHERN COOPERATIVES/LAND ASSIS...  ...   \n",
       "1                   INTERTRIBAL AGRICULTURE COUNCIL, INC  ...   \n",
       "2                                        RURAL COALITION  ...   \n",
       "3      ASSOCIATION OF ILLINOIS SOIL & WATER CONSERVAT...  ...   \n",
       "4                                  SOVEREIGN EQUITY FUND  ...   \n",
       "...                                                  ...  ...   \n",
       "22727                                REDACTED DUE TO PII  ...   \n",
       "22728                                REDACTED DUE TO PII  ...   \n",
       "22729                                REDACTED DUE TO PII  ...   \n",
       "22730                                REDACTED DUE TO PII  ...   \n",
       "22731                                REDACTED DUE TO PII  ...   \n",
       "\n",
       "      primary_place_of_performance_zip_4  \\\n",
       "0                             30344-3258   \n",
       "1                             59102-4711   \n",
       "2                             20005-3842   \n",
       "3                                    NaN   \n",
       "4                             58501-3967   \n",
       "...                                  ...   \n",
       "22727                             84,059   \n",
       "22728                             84,312   \n",
       "22729                              2,807   \n",
       "22730                             89,701   \n",
       "22731                             31,632   \n",
       "\n",
       "      prime_award_transaction_place_of_performance_cd_original  \\\n",
       "0                                                  GA-05         \n",
       "1                                                  MT-02         \n",
       "2                                                  DC-98         \n",
       "3                                                  IL-90         \n",
       "4                                                  ND-00         \n",
       "...                                                  ...         \n",
       "22727                                              UT-03         \n",
       "22728                                              UT-01         \n",
       "22729                                              RI-02         \n",
       "22730                                              NV-02         \n",
       "22731                                              GA-08         \n",
       "\n",
       "      prime_award_transaction_place_of_performance_cd_current cfda_number  \\\n",
       "0                                                  GA-05               10   \n",
       "1                                                  MT-02               10   \n",
       "2                                                  DC-98               10   \n",
       "3                                                    NaN               10   \n",
       "4                                                  ND-00               10   \n",
       "...                                                  ...              ...   \n",
       "22727                                              UT-03               11   \n",
       "22728                                              UT-01               11   \n",
       "22729                                              RI-02               11   \n",
       "22730                                              NV-02               11   \n",
       "22731                                              GA-08               11   \n",
       "\n",
       "                                              cfda_title  \\\n",
       "0      AMERICAN RESCUE PLAN TECHNICAL ASSISTANCE INVE...   \n",
       "1      AMERICAN RESCUE PLAN TECHNICAL ASSISTANCE INVE...   \n",
       "2      AMERICAN RESCUE PLAN TECHNICAL ASSISTANCE INVE...   \n",
       "3                           CONSERVATION RESERVE PROGRAM   \n",
       "4      AMERICAN RESCUE PLAN TECHNICAL ASSISTANCE INVE...   \n",
       "...                                                  ...   \n",
       "22727           ENVIRONMENTAL QUALITY INCENTIVES PROGRAM   \n",
       "22728           ENVIRONMENTAL QUALITY INCENTIVES PROGRAM   \n",
       "22729           ENVIRONMENTAL QUALITY INCENTIVES PROGRAM   \n",
       "22730           ENVIRONMENTAL QUALITY INCENTIVES PROGRAM   \n",
       "22731           ENVIRONMENTAL QUALITY INCENTIVES PROGRAM   \n",
       "\n",
       "                             assistance_type_description  \\\n",
       "0                              COOPERATIVE AGREEMENT (B)   \n",
       "1                                      PROJECT GRANT (B)   \n",
       "2                              COOPERATIVE AGREEMENT (B)   \n",
       "3                              COOPERATIVE AGREEMENT (B)   \n",
       "4                                      PROJECT GRANT (B)   \n",
       "...                                                  ...   \n",
       "22727  OTHER REIMBURSABLE, CONTINGENT, INTANGIBLE, OR...   \n",
       "22728  OTHER REIMBURSABLE, CONTINGENT, INTANGIBLE, OR...   \n",
       "22729  OTHER REIMBURSABLE, CONTINGENT, INTANGIBLE, OR...   \n",
       "22730  OTHER REIMBURSABLE, CONTINGENT, INTANGIBLE, OR...   \n",
       "22731  OTHER REIMBURSABLE, CONTINGENT, INTANGIBLE, OR...   \n",
       "\n",
       "                prime_award_base_transaction_description  \\\n",
       "0      THE FEDERATION OF SOUTHERN COOPERATIVES/LAND A...   \n",
       "1      FOR OVER 35 YEARS, THE INTERTRIBAL AGRICULTURE...   \n",
       "2      AS PART OF A TEAM OF INTERRELATED USDA COOPERA...   \n",
       "3      THE OBJECTIVE OF THIS AGREEMENT IS TO POOL THE...   \n",
       "4      TRIBAL EXTENSION SUSTAINABILITY INITIATIVE (TE...   \n",
       "...                                                  ...   \n",
       "22727                                   EQI IR-PL117-169   \n",
       "22728                                   EQI IR-PL117-169   \n",
       "22729                                   EQI IR-PL117-169   \n",
       "22730                                   EQI IR-PL117-169   \n",
       "22731                                   EQI IR-PL117-169   \n",
       "\n",
       "                              business_types_description  max_promised_amount  \\\n",
       "0      NONPROFIT WITHOUT 501C3 IRS STATUS (OTHER THAN...           14,860,449   \n",
       "1      NONPROFIT WITH 501C3 IRS STATUS (OTHER THAN AN...            4,995,629   \n",
       "2      NONPROFIT WITHOUT 501C3 IRS STATUS (OTHER THAN...            8,955,772   \n",
       "3      NONPROFIT WITH 501C3 IRS STATUS (OTHER THAN AN...            7,340,254   \n",
       "4      NONPROFIT WITH 501C3 IRS STATUS (OTHER THAN AN...            5,000,000   \n",
       "...                                                  ...                  ...   \n",
       "22727                                         INDIVIDUAL                  200   \n",
       "22728                                         INDIVIDUAL                  187   \n",
       "22729                                         INDIVIDUAL                  178   \n",
       "22730                                         INDIVIDUAL                  176   \n",
       "22731                                         INDIVIDUAL                  175   \n",
       "\n",
       "      max_withheld_amount  \n",
       "0               6,351,548  \n",
       "1                 512,904  \n",
       "2               4,970,079  \n",
       "3               3,363,728  \n",
       "4               1,063,404  \n",
       "...                   ...  \n",
       "22727                 200  \n",
       "22728                 187  \n",
       "22729                 178  \n",
       "22730                 176  \n",
       "22731                 175  \n",
       "\n",
       "[22732 rows x 42 columns]"
      ]
     },
     "execution_count": 26,
     "metadata": {},
     "output_type": "execute_result"
    }
   ],
   "source": [
    "df"
   ]
  },
  {
   "cell_type": "code",
   "execution_count": 27,
   "metadata": {},
   "outputs": [
    {
     "data": {
      "text/plain": [
       "program_activities_funding_this_award\n",
       "0025: ENVIRONMENTAL QUALITY INCENTIVES PROGRAM - INFLATION REDUCTION ACT                                                                                                                                                                                                        11813\n",
       "0023: CONSERVATION STEWARDSHIP PROGRAM - INFLATION REDUCTION ACT                                                                                                                                                                                                                 5382\n",
       "0013: IRA GRANTS                                                                                                                                                                                                                                                                 3412\n",
       "0002: ENVIRONMENTAL QUALITY INCENTIVES PROGRAM                                                                                                                                                                                                                                   1484\n",
       "0012: IRA GRANTS UNDER. TECH                                                                                                                                                                                                                                                      170\n",
       "                                                                                                                                                                                                                                                                                ...  \n",
       "0001: CONSERVATION TECHNICAL ASSISTANCE;0002: ENVIRONMENTAL QUALITY INCENTIVES PROGRAM;0009: CONSERVATION STEWARDSHIP PROGRAM 2014;0023: CONSERVATION STEWARDSHIP PROGRAM - INFLATION REDUCTION ACT;0025: ENVIRONMENTAL QUALITY INCENTIVES PROGRAM - INFLATION REDUCTION ACT        1\n",
       "0001: CONSERVATION TECHNICAL ASSISTANCE;0002: ENVIRONMENTAL QUALITY INCENTIVES PROGRAM;0009: CONSERVATION STEWARDSHIP PROGRAM 2014;0023: CONSERVATION STEWARDSHIP PROGRAM - INFLATION REDUCTION ACT                                                                                 1\n",
       "0001: CONSERVATION TECHNICAL ASSISTANCE;0002: ENVIRONMENTAL QUALITY INCENTIVES PROGRAM;0023: CONSERVATION STEWARDSHIP PROGRAM - INFLATION REDUCTION ACT                                                                                                                             1\n",
       "0009: CONSERVATION STEWARDSHIP PROGRAM 2014;0025: ENVIRONMENTAL QUALITY INCENTIVES PROGRAM - INFLATION REDUCTION ACT                                                                                                                                                                1\n",
       "0001: CONSERVATION TECHNICAL ASSISTANCE;0023: CONSERVATION STEWARDSHIP PROGRAM - INFLATION REDUCTION ACT                                                                                                                                                                            1\n",
       "Name: count, Length: 98, dtype: int64"
      ]
     },
     "execution_count": 27,
     "metadata": {},
     "output_type": "execute_result"
    }
   ],
   "source": [
    "df[\"program_activities_funding_this_award\"].value_counts()"
   ]
  },
  {
   "cell_type": "code",
   "execution_count": 60,
   "metadata": {},
   "outputs": [
    {
     "data": {
      "text/plain": [
       "Index(['assistance_transaction_unique_key', 'assistance_award_unique_key',\n",
       "       'award_id_fain', 'total_obligated_amount',\n",
       "       'total_outlayed_amount_for_overall_award', 'action_date_fiscal_year',\n",
       "       'treasury_accounts_funding_this_award',\n",
       "       'program_activities_funding_this_award', 'recipient_uei',\n",
       "       'recipient_name', 'recipient_name_raw', 'recipient_parent_uei',\n",
       "       'recipient_parent_name', 'recipient_parent_name_raw',\n",
       "       'recipient_address_line_1', 'recipient_address_line_2',\n",
       "       'recipient_city_code', 'recipient_city_name',\n",
       "       'prime_award_transaction_recipient_county_fips_code',\n",
       "       'recipient_county_name',\n",
       "       'prime_award_transaction_recipient_state_fips_code',\n",
       "       'recipient_state_code', 'recipient_state_name',\n",
       "       'prime_award_transaction_recipient_cd_original',\n",
       "       'prime_award_transaction_recipient_cd_current',\n",
       "       'primary_place_of_performance_scope',\n",
       "       'primary_place_of_performance_code',\n",
       "       'primary_place_of_performance_city_name',\n",
       "       'prime_award_transaction_place_of_performance_county_fips_code',\n",
       "       'primary_place_of_performance_county_name',\n",
       "       'prime_award_transaction_place_of_performance_state_fips_code',\n",
       "       'primary_place_of_performance_state_name',\n",
       "       'primary_place_of_performance_zip_4',\n",
       "       'prime_award_transaction_place_of_performance_cd_original',\n",
       "       'prime_award_transaction_place_of_performance_cd_current',\n",
       "       'cfda_number', 'cfda_title', 'assistance_type_description',\n",
       "       'prime_award_base_transaction_description',\n",
       "       'business_types_description', 'max_promised_amount',\n",
       "       'max_withheld_amount'],\n",
       "      dtype='object')"
      ]
     },
     "execution_count": 60,
     "metadata": {},
     "output_type": "execute_result"
    }
   ],
   "source": [
    "df.columns"
   ]
  },
  {
   "cell_type": "code",
   "execution_count": 64,
   "metadata": {},
   "outputs": [
    {
     "data": {
      "text/plain": [
       "treasury_accounts_funding_this_award                          cfda_title                               \n",
       "012-2024/2031-1004-000                                        ENVIRONMENTAL QUALITY INCENTIVES PROGRAM     11326\n",
       "                                                              CONSERVATION STEWARDSHIP PROGRAM              3039\n",
       "012-2022/2031-1908-000                                        RURAL ENERGY FOR AMERICA PROGRAM              2712\n",
       "012-2023/2031-1004-000                                        ENVIRONMENTAL QUALITY INCENTIVES PROGRAM      1483\n",
       "                                                              CONSERVATION STEWARDSHIP PROGRAM              1153\n",
       "                                                                                                           ...  \n",
       "012-2024/2025-1000-000;012-2024/2031-1004-000;012-X-1004-000  SOIL AND WATER CONSERVATION                      1\n",
       "012-2024/2031-1004-000;012-X-1004-000                         CONSERVATION RESERVE PROGRAM                     1\n",
       "012-2024/2031-1004-000;012-X-1004-000;012-X-1072-000          FARM AND RANCH LANDS PROTECTION PROGRAM          1\n",
       "012-2024/2031-1004-000;012-X-1004-000                         CONSERVATION STEWARDSHIP PROGRAM                 1\n",
       "                                                              REGIONAL CONSERVATION PARTNERSHIP PROGRAM        1\n",
       "Name: count, Length: 106, dtype: int64"
      ]
     },
     "execution_count": 64,
     "metadata": {},
     "output_type": "execute_result"
    }
   ],
   "source": [
    "df[[\"treasury_accounts_funding_this_award\", \"cfda_title\"]].value_counts(dropna=False)"
   ]
  },
  {
   "cell_type": "code",
   "execution_count": 32,
   "metadata": {},
   "outputs": [
    {
     "data": {
      "text/plain": [
       "prime_award_transaction_place_of_performance_cd_current\n",
       "NaN      8\n",
       "90       7\n",
       "DC-98    5\n",
       "SD-00    1\n",
       "WV-02    1\n",
       "Name: count, dtype: int64"
      ]
     },
     "execution_count": 32,
     "metadata": {},
     "output_type": "execute_result"
    }
   ],
   "source": [
    "df.loc[\n",
    "    df[\"prime_award_transaction_recipient_cd_current\"].fillna(\"\").str.contains(\"DC\")\n",
    "][\"prime_award_transaction_place_of_performance_cd_current\"].value_counts(dropna=False)"
   ]
  },
  {
   "cell_type": "code",
   "execution_count": null,
   "metadata": {},
   "outputs": [
    {
     "data": {
      "text/plain": [
       "prime_award_transaction_recipient_cd_current\n",
       "DC-98    5\n",
       "NC-04    1\n",
       "Name: count, dtype: int64"
      ]
     },
     "execution_count": 33,
     "metadata": {},
     "output_type": "execute_result"
    }
   ],
   "source": [
    "df.loc[\n",
    "    df[\"prime_award_transaction_place_of_performance_cd_current\"]\n",
    "    .fillna(\"\")\n",
    "    .str.contains(\"DC\")\n",
    "][\"prime_award_transaction_recipient_cd_current\"].value_counts(dropna=False)"
   ]
  },
  {
   "cell_type": "code",
   "execution_count": 51,
   "metadata": {},
   "outputs": [
    {
     "data": {
      "text/plain": [
       "(22, 42)"
      ]
     },
     "execution_count": 51,
     "metadata": {},
     "output_type": "execute_result"
    }
   ],
   "source": [
    "# of recipients located in DC\n",
    "df.loc[(df[\"prime_award_transaction_recipient_cd_current\"].str.contains(\"DC\"))].shape\n",
    "\n",
    "# OUTPUT: (22, 42)"
   ]
  },
  {
   "cell_type": "code",
   "execution_count": 55,
   "metadata": {},
   "outputs": [
    {
     "data": {
      "text/plain": [
       "(5, 42)"
      ]
     },
     "execution_count": 55,
     "metadata": {},
     "output_type": "execute_result"
    }
   ],
   "source": [
    "# of recipients located in DC with a place of performance also in DC\n",
    "df.loc[\n",
    "    (df[\"prime_award_transaction_recipient_cd_current\"].str.contains(\"DC\"))\n",
    "    & (\n",
    "        df[\"prime_award_transaction_place_of_performance_cd_current\"].str.contains(\n",
    "            \"DC\", na=False\n",
    "        )\n",
    "    )\n",
    "].shape\n",
    "\n",
    "# OUTPUT: (5, 42)"
   ]
  },
  {
   "cell_type": "code",
   "execution_count": 57,
   "metadata": {},
   "outputs": [
    {
     "data": {
      "text/plain": [
       "(6, 42)"
      ]
     },
     "execution_count": 57,
     "metadata": {},
     "output_type": "execute_result"
    }
   ],
   "source": [
    "#  place of performance in DC\n",
    "df.loc[\n",
    "    (\n",
    "        df[\"prime_award_transaction_place_of_performance_cd_current\"].str.contains(\n",
    "            \"DC\", na=False\n",
    "        )\n",
    "    )\n",
    "].shape\n",
    "\n",
    "# OUTPUT: (6, 42)"
   ]
  },
  {
   "cell_type": "code",
   "execution_count": 59,
   "metadata": {},
   "outputs": [
    {
     "data": {
      "text/plain": [
       "(33, 42)"
      ]
     },
     "execution_count": 59,
     "metadata": {},
     "output_type": "execute_result"
    }
   ],
   "source": [
    "#  place of performance in multiple states/congressional districts\n",
    "df.loc[(df[\"prime_award_transaction_place_of_performance_cd_current\"] == \"90\")].shape\n",
    "\n",
    "# OUTPUT: (33, 42)"
   ]
  },
  {
   "cell_type": "code",
   "execution_count": 52,
   "metadata": {},
   "outputs": [
    {
     "data": {
      "text/plain": [
       "(2, 42)"
      ]
     },
     "execution_count": 52,
     "metadata": {},
     "output_type": "execute_result"
    }
   ],
   "source": [
    "# of recipients located in DC\n",
    "# but have a specific place of performance other than DC\n",
    "df.loc[\n",
    "    (df[\"prime_award_transaction_recipient_cd_current\"].str.contains(\"DC\"))\n",
    "    & (\n",
    "        ~df[\"prime_award_transaction_place_of_performance_cd_current\"].str.contains(\n",
    "            \"DC\", na=False\n",
    "        )\n",
    "    )\n",
    "    & (\n",
    "        ~df[\"prime_award_transaction_place_of_performance_cd_current\"].str.contains(\n",
    "            \"90\", na=False\n",
    "        )\n",
    "    )\n",
    "    & (~df[\"prime_award_transaction_place_of_performance_cd_current\"].isna())\n",
    "].shape\n",
    "\n",
    "# OUTPUT: (2, 42)"
   ]
  },
  {
   "cell_type": "code",
   "execution_count": 53,
   "metadata": {},
   "outputs": [
    {
     "data": {
      "text/plain": [
       "(9, 42)"
      ]
     },
     "execution_count": 53,
     "metadata": {},
     "output_type": "execute_result"
    }
   ],
   "source": [
    "# of recipients located in DC\n",
    "# but have some place of performance other than DC but may be statewide\n",
    "df.loc[\n",
    "    (df[\"prime_award_transaction_recipient_cd_current\"].str.contains(\"DC\"))\n",
    "    & (\n",
    "        ~df[\"prime_award_transaction_place_of_performance_cd_current\"].str.contains(\n",
    "            \"DC\", na=False\n",
    "        )\n",
    "    )\n",
    "    & (~df[\"prime_award_transaction_place_of_performance_cd_current\"].isna())\n",
    "].shape\n",
    "\n",
    "# OUTPUT: (9, 42)"
   ]
  },
  {
   "cell_type": "code",
   "execution_count": 47,
   "metadata": {},
   "outputs": [
    {
     "data": {
      "text/plain": [
       "(502, 42)"
      ]
     },
     "execution_count": 47,
     "metadata": {},
     "output_type": "execute_result"
    }
   ],
   "source": [
    "# of recipients with statewide or multiple congressional districts\n",
    "df.loc[(df[\"prime_award_transaction_recipient_cd_current\"].str.contains(\"90\"))].shape\n",
    "\n",
    "# OUTPUT: (502, 42)"
   ]
  },
  {
   "cell_type": "code",
   "execution_count": 48,
   "metadata": {},
   "outputs": [
    {
     "data": {
      "text/plain": [
       "(44, 42)"
      ]
     },
     "execution_count": 48,
     "metadata": {},
     "output_type": "execute_result"
    }
   ],
   "source": [
    "# of recipients with statewide or multiple congressional districts\n",
    "# but have a place of performance with a specific congressional district\n",
    "df.loc[\n",
    "    (df[\"prime_award_transaction_recipient_cd_current\"].str.contains(\"90\"))\n",
    "    & (\n",
    "        ~df[\"prime_award_transaction_place_of_performance_cd_current\"].str.contains(\n",
    "            \"90\", na=False\n",
    "        )\n",
    "    )\n",
    "].shape\n",
    "\n",
    "# OUTPUT: (44, 42)"
   ]
  },
  {
   "cell_type": "code",
   "execution_count": 49,
   "metadata": {},
   "outputs": [
    {
     "data": {
      "text/plain": [
       "(458, 42)"
      ]
     },
     "execution_count": 49,
     "metadata": {},
     "output_type": "execute_result"
    }
   ],
   "source": [
    "# of recipients with statewide or multiple congressional districts\n",
    "# and have no place of performance with a specific congressional district\n",
    "df.loc[\n",
    "    (df[\"prime_award_transaction_recipient_cd_current\"].str.contains(\"90\"))\n",
    "    & (\n",
    "        df[\"prime_award_transaction_place_of_performance_cd_current\"].str.contains(\n",
    "            \"90\", na=False\n",
    "        )\n",
    "    )\n",
    "].shape\n",
    "\n",
    "# OUTPUT: (458, 42)"
   ]
  },
  {
   "cell_type": "code",
   "execution_count": 38,
   "metadata": {},
   "outputs": [
    {
     "data": {
      "text/plain": [
       "recipient_name\n",
       "NATIONAL FISH AND WILDLIFE FOUNDATION             9\n",
       "THE AMERICAN FARMLAND TRUST                       4\n",
       "HISPANIC ACCESS FOUNDATION                        1\n",
       "THE CORPS NETWORK                                 1\n",
       "NATIONAL ASSOCIATION OF CONSERVATION DISTRICTS    1\n",
       "515 E WASHINGTON LLC                              1\n",
       "Name: count, dtype: int64"
      ]
     },
     "execution_count": 38,
     "metadata": {},
     "output_type": "execute_result"
    }
   ],
   "source": [
    "df.loc[\n",
    "    (df[\"prime_award_transaction_recipient_cd_current\"].str.contains(\"DC\"))\n",
    "    & (\n",
    "        ~df[\"prime_award_transaction_place_of_performance_cd_current\"].str.contains(\n",
    "            \"DC\", na=False\n",
    "        )\n",
    "    )\n",
    "][\"recipient_name\"].value_counts()"
   ]
  },
  {
   "cell_type": "code",
   "execution_count": 39,
   "metadata": {},
   "outputs": [
    {
     "data": {
      "text/plain": [
       "Series([], Name: count, dtype: int64)"
      ]
     },
     "execution_count": 39,
     "metadata": {},
     "output_type": "execute_result"
    }
   ],
   "source": [
    "df.loc[\n",
    "    (df[\"prime_award_transaction_recipient_cd_current\"].isna())\n",
    "    & (~df[\"prime_award_transaction_place_of_performance_cd_current\"].isna())\n",
    "][\"treasury_accounts_funding_this_award\"].value_counts()\n",
    "# [\"cfda_title\"].value_counts()\n",
    "# [\"recipient_name\"].value_counts()"
   ]
  },
  {
   "cell_type": "code",
   "execution_count": 40,
   "metadata": {},
   "outputs": [
    {
     "data": {
      "text/plain": [
       "Index(['assistance_transaction_unique_key', 'assistance_award_unique_key',\n",
       "       'award_id_fain', 'total_obligated_amount',\n",
       "       'total_outlayed_amount_for_overall_award', 'action_date_fiscal_year',\n",
       "       'treasury_accounts_funding_this_award',\n",
       "       'program_activities_funding_this_award', 'recipient_uei',\n",
       "       'recipient_name', 'recipient_name_raw', 'recipient_parent_uei',\n",
       "       'recipient_parent_name', 'recipient_parent_name_raw',\n",
       "       'recipient_address_line_1', 'recipient_address_line_2',\n",
       "       'recipient_city_code', 'recipient_city_name',\n",
       "       'prime_award_transaction_recipient_county_fips_code',\n",
       "       'recipient_county_name',\n",
       "       'prime_award_transaction_recipient_state_fips_code',\n",
       "       'recipient_state_code', 'recipient_state_name',\n",
       "       'prime_award_transaction_recipient_cd_original',\n",
       "       'prime_award_transaction_recipient_cd_current',\n",
       "       'primary_place_of_performance_scope',\n",
       "       'primary_place_of_performance_code',\n",
       "       'primary_place_of_performance_city_name',\n",
       "       'prime_award_transaction_place_of_performance_county_fips_code',\n",
       "       'primary_place_of_performance_county_name',\n",
       "       'prime_award_transaction_place_of_performance_state_fips_code',\n",
       "       'primary_place_of_performance_state_name',\n",
       "       'primary_place_of_performance_zip_4',\n",
       "       'prime_award_transaction_place_of_performance_cd_original',\n",
       "       'prime_award_transaction_place_of_performance_cd_current',\n",
       "       'cfda_number', 'cfda_title', 'assistance_type_description',\n",
       "       'prime_award_base_transaction_description',\n",
       "       'business_types_description', 'max_promised_amount',\n",
       "       'max_withheld_amount'],\n",
       "      dtype='object')"
      ]
     },
     "execution_count": 40,
     "metadata": {},
     "output_type": "execute_result"
    }
   ],
   "source": [
    "df.columns"
   ]
  },
  {
   "cell_type": "code",
   "execution_count": null,
   "metadata": {},
   "outputs": [],
   "source": []
  }
 ],
 "metadata": {
  "kernelspec": {
   "display_name": "jupyterlab",
   "language": "python",
   "name": "python3"
  },
  "language_info": {
   "codemirror_mode": {
    "name": "ipython",
    "version": 3
   },
   "file_extension": ".py",
   "mimetype": "text/x-python",
   "name": "python",
   "nbconvert_exporter": "python",
   "pygments_lexer": "ipython3",
   "version": "3.13.1"
  }
 },
 "nbformat": 4,
 "nbformat_minor": 2
}
